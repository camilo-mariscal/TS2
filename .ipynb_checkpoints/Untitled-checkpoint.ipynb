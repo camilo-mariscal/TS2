{
 "cells": [
  {
   "cell_type": "markdown",
   "id": "47d6f41a",
   "metadata": {},
   "source": [
    "## Teoría de los Circuitos 2\n",
    "\n",
    "# Trabajo semanal 2\n",
    "#### Juan Camilo Mariscal Gutierrez"
   ]
  },
  {
   "cell_type": "markdown",
   "id": "c2ee2803",
   "metadata": {},
   "source": [
    "## Consignas\n"
   ]
  },
  {
   "cell_type": "code",
   "execution_count": 10,
   "id": "42651cb9",
   "metadata": {
    "scrolled": true
   },
   "outputs": [
    {
     "data": {
      "text/html": [
       "\n",
       "        <iframe\n",
       "            width=\"1000\"\n",
       "            height=\"1000\"\n",
       "            src=\"./Consignas_TS2.pdf\"\n",
       "            frameborder=\"0\"\n",
       "            allowfullscreen\n",
       "            \n",
       "        ></iframe>\n",
       "        "
      ],
      "text/plain": [
       "<IPython.lib.display.IFrame at 0x22724aa2500>"
      ]
     },
     "execution_count": 10,
     "metadata": {},
     "output_type": "execute_result"
    }
   ],
   "source": [
    "from IPython.display import IFrame\n",
    "\n",
    "IFrame(\"./Consignas_TS2.pdf\", width=1000, height=1000)"
   ]
  },
  {
   "cell_type": "markdown",
   "id": "f342b3de",
   "metadata": {},
   "source": [
    "\n",
    "## Desarrollo y calculo\n",
    "\n",
    "En este PDF podremos ver el desarrollo de como se llega a la tranferencis pedia \n",
    "despues se halla los valores de los componentes para un W0=1 y un Q=3.\n",
    "\n",
    "Despues vamos a enncontrar la normalizacion en impedandia la norma que se elije es la R2.\n",
    "\n",
    "Tambien esta la normalizacion en frecuencia que a la una que afecta es al capacitor \n",
    "Tambien la sensibilidad tanto de W0 y Q. \n",
    "\n",
    "Tenemos la tranferencia de Butterworth.\n",
    "\n",
    "Por ultimo tendremos la desarrolo para obtener un filtro pasa banda tomando la salida del Opam U1\n",
    "con los componentes que influyen en W0,Q,K.\n",
    "\n",
    "\n"
   ]
  },
  {
   "cell_type": "code",
   "execution_count": 8,
   "id": "5ca755e5",
   "metadata": {},
   "outputs": [
    {
     "data": {
      "text/html": [
       "\n",
       "        <iframe\n",
       "            width=\"1000\"\n",
       "            height=\"1000\"\n",
       "            src=\"./TS2.pdf\"\n",
       "            frameborder=\"0\"\n",
       "            allowfullscreen\n",
       "            \n",
       "        ></iframe>\n",
       "        "
      ],
      "text/plain": [
       "<IPython.lib.display.IFrame at 0x22724a47670>"
      ]
     },
     "execution_count": 8,
     "metadata": {},
     "output_type": "execute_result"
    }
   ],
   "source": [
    "from IPython.display import IFrame\n",
    "\n",
    "IFrame(\"./TS2.pdf\", width=1000, height=1000)"
   ]
  },
  {
   "cell_type": "markdown",
   "id": "057f09ac",
   "metadata": {},
   "source": [
    "## Simulación\n",
    "\n",
    "En este PDF encontraremos el circuito tomando como Vo la salida del Opam U2 \n",
    "cuya transferencia Vo/Vin no dara como resultado una filtro pasa bajos\n",
    "esto lo podemos corroborar con la simulacion que le sigue al circuito\n",
    "con una ganancia de 20db que se pide par W=0 y un pico de elevacion en la W0 que se debe al Q \n",
    "\n",
    "El secundo el es mismo pero tomamos la salida en el Opam U1 con lo que la tranferencia no dara \n",
    "un filtro pasa banda, tomando los mismos valores de los componentes.   "
   ]
  },
  {
   "cell_type": "code",
   "execution_count": 11,
   "id": "9dd4327d",
   "metadata": {},
   "outputs": [
    {
     "data": {
      "text/html": [
       "\n",
       "        <iframe\n",
       "            width=\"1000\"\n",
       "            height=\"1000\"\n",
       "            src=\"./simulsciones.pdf\"\n",
       "            frameborder=\"0\"\n",
       "            allowfullscreen\n",
       "            \n",
       "        ></iframe>\n",
       "        "
      ],
      "text/plain": [
       "<IPython.lib.display.IFrame at 0x22724a68b20>"
      ]
     },
     "execution_count": 11,
     "metadata": {},
     "output_type": "execute_result"
    }
   ],
   "source": [
    "from IPython.display import IFrame\n",
    "\n",
    "IFrame(\"./simulsciones.pdf\", width=1000, height=1000)"
   ]
  },
  {
   "cell_type": "code",
   "execution_count": null,
   "id": "5d057b6c",
   "metadata": {},
   "outputs": [],
   "source": []
  }
 ],
 "metadata": {
  "kernelspec": {
   "display_name": "Python 3 (ipykernel)",
   "language": "python",
   "name": "python3"
  },
  "language_info": {
   "codemirror_mode": {
    "name": "ipython",
    "version": 3
   },
   "file_extension": ".py",
   "mimetype": "text/x-python",
   "name": "python",
   "nbconvert_exporter": "python",
   "pygments_lexer": "ipython3",
   "version": "3.10.9"
  }
 },
 "nbformat": 4,
 "nbformat_minor": 5
}
